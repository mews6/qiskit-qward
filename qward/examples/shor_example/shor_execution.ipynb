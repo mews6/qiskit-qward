{
 "cells": [
  {
   "cell_type": "markdown",
   "id": "69a21ab4",
   "metadata": {},
   "source": [
    "## Executing Shor's Algorithm on QWard\n",
    "\n"
   ]
  },
  {
   "cell_type": "code",
   "execution_count": 3,
   "id": "3fdedcce",
   "metadata": {},
   "outputs": [
    {
     "ename": "AttributeError",
     "evalue": "'QuantumCircuit' object has no attribute 'u1'",
     "output_type": "error",
     "traceback": [
      "\u001b[31m---------------------------------------------------------------------------\u001b[39m",
      "\u001b[31mAttributeError\u001b[39m                            Traceback (most recent call last)",
      "\u001b[36mCell\u001b[39m\u001b[36m \u001b[39m\u001b[32mIn[3]\u001b[39m\u001b[32m, line 3\u001b[39m\n\u001b[32m      1\u001b[39m \u001b[38;5;28;01mfrom\u001b[39;00m\u001b[38;5;250m \u001b[39m\u001b[34;01mexample_shor_constructor\u001b[39;00m\u001b[38;5;250m \u001b[39m\u001b[38;5;28;01mimport\u001b[39;00m main\n\u001b[32m----> \u001b[39m\u001b[32m3\u001b[39m \u001b[43mmain\u001b[49m\u001b[43m(\u001b[49m\u001b[43m)\u001b[49m\n",
      "\u001b[36mFile \u001b[39m\u001b[32m~/Documents/repos/qiskit-qward/qward/examples/shor_example/example_shor_constructor.py:210\u001b[39m, in \u001b[36mmain\u001b[39m\u001b[34m()\u001b[39m\n\u001b[32m    209\u001b[39m \u001b[38;5;28;01mdef\u001b[39;00m\u001b[38;5;250m \u001b[39m\u001b[34mmain\u001b[39m():\n\u001b[32m--> \u001b[39m\u001b[32m210\u001b[39m     \u001b[43mexample_metrics_with_classes\u001b[49m\u001b[43m(\u001b[49m\u001b[43m)\u001b[49m\n\u001b[32m    211\u001b[39m     example_metrics_with_instances()\n",
      "\u001b[36mFile \u001b[39m\u001b[32m~/Documents/repos/qiskit-qward/qward/examples/shor_example/example_shor_constructor.py:189\u001b[39m, in \u001b[36mexample_metrics_with_classes\u001b[39m\u001b[34m()\u001b[39m\n\u001b[32m    188\u001b[39m \u001b[38;5;28;01mdef\u001b[39;00m\u001b[38;5;250m \u001b[39m\u001b[34mexample_metrics_with_classes\u001b[39m():\n\u001b[32m--> \u001b[39m\u001b[32m189\u001b[39m     circuit = \u001b[43mcreate_example_shor\u001b[49m\u001b[43m(\u001b[49m\u001b[43m)\u001b[49m\n\u001b[32m    190\u001b[39m     \u001b[38;5;28mprint\u001b[39m(\u001b[33m\"\u001b[39m\u001b[38;5;130;01m\\n\u001b[39;00m\u001b[33mExample: Metrics via Scanner constructor (metric classes)\u001b[39m\u001b[33m\"\u001b[39m)\n\u001b[32m    191\u001b[39m     scanner = Scanner(circuit=circuit, metrics=[QiskitMetrics, ComplexityMetrics])\n",
      "\u001b[36mFile \u001b[39m\u001b[32m~/Documents/repos/qiskit-qward/qward/examples/shor_example/example_shor_constructor.py:179\u001b[39m, in \u001b[36mcreate_example_shor\u001b[39m\u001b[34m()\u001b[39m\n\u001b[32m    176\u001b[39m c = ClassicalRegister(\u001b[32m5\u001b[39m, \u001b[33m'\u001b[39m\u001b[33mc\u001b[39m\u001b[33m'\u001b[39m)\n\u001b[32m    178\u001b[39m shor = QuantumCircuit(q, c)\n\u001b[32m--> \u001b[39m\u001b[32m179\u001b[39m \u001b[38;5;28;01mreturn\u001b[39;00m \u001b[43mcircuit_aperiod15\u001b[49m\u001b[43m(\u001b[49m\u001b[43mshor\u001b[49m\u001b[43m,\u001b[49m\u001b[43mq\u001b[49m\u001b[43m,\u001b[49m\u001b[43mc\u001b[49m\u001b[43m,\u001b[49m\u001b[32;43m7\u001b[39;49m\u001b[43m)\u001b[49m\n",
      "\u001b[36mFile \u001b[39m\u001b[32m~/Documents/repos/qiskit-qward/qward/examples/shor_example/example_shor_constructor.py:153\u001b[39m, in \u001b[36mcircuit_aperiod15\u001b[39m\u001b[34m(qc, qr, cr, a)\u001b[39m\n\u001b[32m    151\u001b[39m qc.cx(qr[\u001b[32m4\u001b[39m],qr[\u001b[32m0\u001b[39m])\n\u001b[32m    152\u001b[39m \u001b[38;5;66;03m#   feed forward\u001b[39;00m\n\u001b[32m--> \u001b[39m\u001b[32m153\u001b[39m \u001b[43mqc\u001b[49m\u001b[43m.\u001b[49m\u001b[43mu1\u001b[49m(math.pi/\u001b[32m2.\u001b[39m,qr[\u001b[32m4\u001b[39m]).c_if(cr, \u001b[32m1\u001b[39m)\n\u001b[32m    154\u001b[39m qc.h(qr[\u001b[32m4\u001b[39m])\n\u001b[32m    155\u001b[39m \u001b[38;5;66;03m#   measure\u001b[39;00m\n",
      "\u001b[31mAttributeError\u001b[39m: 'QuantumCircuit' object has no attribute 'u1'"
     ]
    }
   ],
   "source": [
    "from example_shor_constructor import main\n",
    "\n",
    "main()"
   ]
  }
 ],
 "metadata": {
  "kernelspec": {
   "display_name": "Python 3",
   "language": "python",
   "name": "python3"
  },
  "language_info": {
   "codemirror_mode": {
    "name": "ipython",
    "version": 3
   },
   "file_extension": ".py",
   "mimetype": "text/x-python",
   "name": "python",
   "nbconvert_exporter": "python",
   "pygments_lexer": "ipython3",
   "version": "3.11.11"
  }
 },
 "nbformat": 4,
 "nbformat_minor": 5
}
