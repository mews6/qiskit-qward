{
 "cells": [
  {
   "cell_type": "markdown",
   "id": "69a21ab4",
   "metadata": {},
   "source": [
    "## Executing Shor's Algorithm on QWard\n",
    "\n"
   ]
  },
  {
   "cell_type": "code",
   "execution_count": null,
   "id": "3fdedcce",
   "metadata": {},
   "outputs": [],
   "source": [
    "from example_shor_constructor import main\n",
    "\n",
    "main()"
   ]
  }
 ],
 "metadata": {
  "kernelspec": {
   "display_name": ".venv",
   "language": "python",
   "name": "python3"
  },
  "language_info": {
   "name": "python",
   "version": "3.13.2"
  }
 },
 "nbformat": 4,
 "nbformat_minor": 5
}
