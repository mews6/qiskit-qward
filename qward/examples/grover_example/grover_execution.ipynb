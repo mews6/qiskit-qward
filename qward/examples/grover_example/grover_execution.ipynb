{
 "cells": [
  {
   "cell_type": "markdown",
   "id": "f6fb7d33",
   "metadata": {},
   "source": [
    "### Executing Grover's Algorithm on QWard"
   ]
  },
  {
   "cell_type": "code",
   "execution_count": 19,
   "id": "4078da3f",
   "metadata": {},
   "outputs": [
    {
     "ename": "NameError",
     "evalue": "name 'pi' is not defined",
     "output_type": "error",
     "traceback": [
      "\u001b[31m---------------------------------------------------------------------------\u001b[39m",
      "\u001b[31mNameError\u001b[39m                                 Traceback (most recent call last)",
      "\u001b[36mCell\u001b[39m\u001b[36m \u001b[39m\u001b[32mIn[19]\u001b[39m\u001b[32m, line 3\u001b[39m\n\u001b[32m      1\u001b[39m \u001b[38;5;28;01mfrom\u001b[39;00m\u001b[38;5;250m \u001b[39m\u001b[34;01mexample_grover_constructor\u001b[39;00m\u001b[38;5;250m \u001b[39m\u001b[38;5;28;01mimport\u001b[39;00m main\n\u001b[32m----> \u001b[39m\u001b[32m3\u001b[39m \u001b[43mmain\u001b[49m\u001b[43m(\u001b[49m\u001b[43m)\u001b[49m\n",
      "\u001b[36mFile \u001b[39m\u001b[32m~/Documents/repos/qiskit-qward/qward/examples/grover_example/example_grover_constructor.py:167\u001b[39m, in \u001b[36mmain\u001b[39m\u001b[34m()\u001b[39m\n\u001b[32m    166\u001b[39m \u001b[38;5;28;01mdef\u001b[39;00m\u001b[38;5;250m \u001b[39m\u001b[34mmain\u001b[39m():\n\u001b[32m--> \u001b[39m\u001b[32m167\u001b[39m     \u001b[43mexample_metrics_with_classes\u001b[49m\u001b[43m(\u001b[49m\u001b[43m)\u001b[49m\n\u001b[32m    168\u001b[39m     example_metrics_with_instances()\n",
      "\u001b[36mFile \u001b[39m\u001b[32m~/Documents/repos/qiskit-qward/qward/examples/grover_example/example_grover_constructor.py:146\u001b[39m, in \u001b[36mexample_metrics_with_classes\u001b[39m\u001b[34m()\u001b[39m\n\u001b[32m    145\u001b[39m \u001b[38;5;28;01mdef\u001b[39;00m\u001b[38;5;250m \u001b[39m\u001b[34mexample_metrics_with_classes\u001b[39m():\n\u001b[32m--> \u001b[39m\u001b[32m146\u001b[39m     circuit = \u001b[43mcreate_example_grover\u001b[49m\u001b[43m(\u001b[49m\u001b[43m)\u001b[49m\n\u001b[32m    147\u001b[39m     \u001b[38;5;28mprint\u001b[39m(\u001b[33m\"\u001b[39m\u001b[38;5;130;01m\\n\u001b[39;00m\u001b[33mExample: Metrics via Scanner constructor (metric classes)\u001b[39m\u001b[33m\"\u001b[39m)\n\u001b[32m    148\u001b[39m     scanner = Scanner(circuit=circuit, metrics=[QiskitMetrics, ComplexityMetrics])\n",
      "\u001b[36mFile \u001b[39m\u001b[32m~/Documents/repos/qiskit-qward/qward/examples/grover_example/example_grover_constructor.py:142\u001b[39m, in \u001b[36mcreate_example_grover\u001b[39m\u001b[34m()\u001b[39m\n\u001b[32m    139\u001b[39m grover_oracle = oracle()\n\u001b[32m    140\u001b[39m grover_diffuser = diffuser()\n\u001b[32m--> \u001b[39m\u001b[32m142\u001b[39m grover_circuit, density_matrix = \u001b[43mgrover\u001b[49m\u001b[43m(\u001b[49m\u001b[43mgrover_oracle\u001b[49m\u001b[43m,\u001b[49m\u001b[43m \u001b[49m\u001b[43mgrover_diffuser\u001b[49m\u001b[43m)\u001b[49m\n\u001b[32m    143\u001b[39m \u001b[38;5;28;01mreturn\u001b[39;00m grover_circuit\n",
      "\u001b[36mFile \u001b[39m\u001b[32m~/Documents/repos/qiskit-qward/qward/examples/grover_example/example_grover_constructor.py:126\u001b[39m, in \u001b[36mgrover\u001b[39m\u001b[34m(oracle, diffuser, name)\u001b[39m\n\u001b[32m    123\u001b[39m grover.barrier()\n\u001b[32m    125\u001b[39m \u001b[38;5;66;03m# Apply oracle and diffuser (i.e. Grover operator) optimal number of times\u001b[39;00m\n\u001b[32m--> \u001b[39m\u001b[32m126\u001b[39m \u001b[38;5;28;01mfor\u001b[39;00m _ \u001b[38;5;129;01min\u001b[39;00m \u001b[38;5;28mrange\u001b[39m(\u001b[38;5;28mint\u001b[39m((\u001b[43mpi\u001b[49m / \u001b[32m4\u001b[39m) * sqrt((\u001b[32m2\u001b[39m ** N) / \u001b[38;5;28mlen\u001b[39m(TARGETS)))):\n\u001b[32m    127\u001b[39m     grover.append(oracle, \u001b[38;5;28mlist\u001b[39m(\u001b[38;5;28mrange\u001b[39m(N)))\n\u001b[32m    128\u001b[39m     grover.append(diffuser, \u001b[38;5;28mlist\u001b[39m(\u001b[38;5;28mrange\u001b[39m(N)))\n",
      "\u001b[31mNameError\u001b[39m: name 'pi' is not defined"
     ]
    }
   ],
   "source": [
    "from example_grover_constructor import main\n",
    "\n",
    "main()"
   ]
  }
 ],
 "metadata": {
  "kernelspec": {
   "display_name": "Python 3",
   "language": "python",
   "name": "python3"
  },
  "language_info": {
   "codemirror_mode": {
    "name": "ipython",
    "version": 3
   },
   "file_extension": ".py",
   "mimetype": "text/x-python",
   "name": "python",
   "nbconvert_exporter": "python",
   "pygments_lexer": "ipython3",
   "version": "3.11.11"
  }
 },
 "nbformat": 4,
 "nbformat_minor": 5
}
