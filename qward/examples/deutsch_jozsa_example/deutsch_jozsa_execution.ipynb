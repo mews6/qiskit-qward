{
 "cells": [
  {
   "cell_type": "code",
   "execution_count": null,
   "id": "a26c03f0",
   "metadata": {},
   "outputs": [],
   "source": [
    "from example_deutsch_jozsa_constructor import main\n",
    "\n",
    "main()"
   ]
  }
 ],
 "metadata": {
  "language_info": {
   "name": "python"
  }
 },
 "nbformat": 4,
 "nbformat_minor": 5
}
