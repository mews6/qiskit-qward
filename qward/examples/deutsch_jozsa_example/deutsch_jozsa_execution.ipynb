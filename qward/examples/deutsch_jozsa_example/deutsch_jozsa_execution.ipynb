{
 "cells": [
  {
   "cell_type": "code",
   "execution_count": 34,
   "id": "a26c03f0",
   "metadata": {},
   "outputs": [
    {
     "name": "stdout",
     "output_type": "stream",
     "text": [
      "The oracle returns a balanced function\n",
      "\n",
      "Example: Metrics via Scanner constructor (metric classes)\n",
      "QiskitMetrics DataFrame:\n"
     ]
    },
    {
     "data": {
      "text/html": [
       "<div>\n",
       "<style scoped>\n",
       "    .dataframe tbody tr th:only-of-type {\n",
       "        vertical-align: middle;\n",
       "    }\n",
       "\n",
       "    .dataframe tbody tr th {\n",
       "        vertical-align: top;\n",
       "    }\n",
       "\n",
       "    .dataframe thead th {\n",
       "        text-align: right;\n",
       "    }\n",
       "</style>\n",
       "<table border=\"1\" class=\"dataframe\">\n",
       "  <thead>\n",
       "    <tr style=\"text-align: right;\">\n",
       "      <th></th>\n",
       "      <th>basic_metrics.depth</th>\n",
       "      <th>basic_metrics.width</th>\n",
       "      <th>basic_metrics.size</th>\n",
       "      <th>basic_metrics.num_qubits</th>\n",
       "      <th>basic_metrics.num_clbits</th>\n",
       "      <th>basic_metrics.num_ancillas</th>\n",
       "      <th>basic_metrics.num_parameters</th>\n",
       "      <th>basic_metrics.has_calibrations</th>\n",
       "      <th>basic_metrics.has_layout</th>\n",
       "      <th>instruction_metrics.num_connected_components</th>\n",
       "      <th>...</th>\n",
       "      <th>basic_metrics.count_ops.h</th>\n",
       "      <th>basic_metrics.count_ops.measure</th>\n",
       "      <th>basic_metrics.count_ops.cx</th>\n",
       "      <th>basic_metrics.count_ops.barrier</th>\n",
       "      <th>basic_metrics.count_ops.x</th>\n",
       "      <th>instruction_metrics.instructions.h</th>\n",
       "      <th>instruction_metrics.instructions.measure</th>\n",
       "      <th>instruction_metrics.instructions.cx</th>\n",
       "      <th>instruction_metrics.instructions.barrier</th>\n",
       "      <th>instruction_metrics.instructions.x</th>\n",
       "    </tr>\n",
       "  </thead>\n",
       "  <tbody>\n",
       "    <tr>\n",
       "      <th>0</th>\n",
       "      <td>8</td>\n",
       "      <td>21</td>\n",
       "      <td>36</td>\n",
       "      <td>11</td>\n",
       "      <td>10</td>\n",
       "      <td>0</td>\n",
       "      <td>0</td>\n",
       "      <td>False</td>\n",
       "      <td>False</td>\n",
       "      <td>7</td>\n",
       "      <td>...</td>\n",
       "      <td>21</td>\n",
       "      <td>10</td>\n",
       "      <td>4</td>\n",
       "      <td>3</td>\n",
       "      <td>1</td>\n",
       "      <td>[(Instruction(name='h', num_qubits=1, num_clbi...</td>\n",
       "      <td>[(Instruction(name='measure', num_qubits=1, nu...</td>\n",
       "      <td>[(Instruction(name='cx', num_qubits=2, num_clb...</td>\n",
       "      <td>[(Instruction(name='barrier', num_qubits=11, n...</td>\n",
       "      <td>[(Instruction(name='x', num_qubits=1, num_clbi...</td>\n",
       "    </tr>\n",
       "  </tbody>\n",
       "</table>\n",
       "<p>1 rows × 24 columns</p>\n",
       "</div>"
      ],
      "text/plain": [
       "   basic_metrics.depth  basic_metrics.width  basic_metrics.size  \\\n",
       "0                    8                   21                  36   \n",
       "\n",
       "   basic_metrics.num_qubits  basic_metrics.num_clbits  \\\n",
       "0                        11                        10   \n",
       "\n",
       "   basic_metrics.num_ancillas  basic_metrics.num_parameters  \\\n",
       "0                           0                             0   \n",
       "\n",
       "   basic_metrics.has_calibrations  basic_metrics.has_layout  \\\n",
       "0                           False                     False   \n",
       "\n",
       "   instruction_metrics.num_connected_components  ...  \\\n",
       "0                                             7  ...   \n",
       "\n",
       "   basic_metrics.count_ops.h  basic_metrics.count_ops.measure  \\\n",
       "0                         21                               10   \n",
       "\n",
       "   basic_metrics.count_ops.cx  basic_metrics.count_ops.barrier  \\\n",
       "0                           4                                3   \n",
       "\n",
       "   basic_metrics.count_ops.x  \\\n",
       "0                          1   \n",
       "\n",
       "                  instruction_metrics.instructions.h  \\\n",
       "0  [(Instruction(name='h', num_qubits=1, num_clbi...   \n",
       "\n",
       "            instruction_metrics.instructions.measure  \\\n",
       "0  [(Instruction(name='measure', num_qubits=1, nu...   \n",
       "\n",
       "                 instruction_metrics.instructions.cx  \\\n",
       "0  [(Instruction(name='cx', num_qubits=2, num_clb...   \n",
       "\n",
       "            instruction_metrics.instructions.barrier  \\\n",
       "0  [(Instruction(name='barrier', num_qubits=11, n...   \n",
       "\n",
       "                  instruction_metrics.instructions.x  \n",
       "0  [(Instruction(name='x', num_qubits=1, num_clbi...  \n",
       "\n",
       "[1 rows x 24 columns]"
      ]
     },
     "metadata": {},
     "output_type": "display_data"
    },
    {
     "name": "stdout",
     "output_type": "stream",
     "text": [
      "ComplexityMetrics DataFrame:\n"
     ]
    },
    {
     "data": {
      "text/html": [
       "<div>\n",
       "<style scoped>\n",
       "    .dataframe tbody tr th:only-of-type {\n",
       "        vertical-align: middle;\n",
       "    }\n",
       "\n",
       "    .dataframe tbody tr th {\n",
       "        vertical-align: top;\n",
       "    }\n",
       "\n",
       "    .dataframe thead th {\n",
       "        text-align: right;\n",
       "    }\n",
       "</style>\n",
       "<table border=\"1\" class=\"dataframe\">\n",
       "  <thead>\n",
       "    <tr style=\"text-align: right;\">\n",
       "      <th></th>\n",
       "      <th>gate_based_metrics.gate_count</th>\n",
       "      <th>gate_based_metrics.circuit_depth</th>\n",
       "      <th>gate_based_metrics.t_count</th>\n",
       "      <th>gate_based_metrics.cnot_count</th>\n",
       "      <th>gate_based_metrics.two_qubit_count</th>\n",
       "      <th>gate_based_metrics.multi_qubit_ratio</th>\n",
       "      <th>entanglement_metrics.entangling_gate_density</th>\n",
       "      <th>entanglement_metrics.entangling_width</th>\n",
       "      <th>standardized_metrics.circuit_volume</th>\n",
       "      <th>standardized_metrics.gate_density</th>\n",
       "      <th>...</th>\n",
       "      <th>advanced_metrics.circuit_efficiency</th>\n",
       "      <th>advanced_metrics.quantum_resource_utilization</th>\n",
       "      <th>derived_metrics.square_ratio</th>\n",
       "      <th>derived_metrics.weighted_complexity</th>\n",
       "      <th>derived_metrics.normalized_weighted_complexity</th>\n",
       "      <th>quantum_volume.standard_quantum_volume</th>\n",
       "      <th>quantum_volume.enhanced_quantum_volume</th>\n",
       "      <th>quantum_volume.effective_depth</th>\n",
       "      <th>quantum_volume.factors</th>\n",
       "      <th>quantum_volume.circuit_metrics</th>\n",
       "    </tr>\n",
       "  </thead>\n",
       "  <tbody>\n",
       "    <tr>\n",
       "      <th>0</th>\n",
       "      <td>36</td>\n",
       "      <td>8</td>\n",
       "      <td>0</td>\n",
       "      <td>4</td>\n",
       "      <td>4</td>\n",
       "      <td>0.028</td>\n",
       "      <td>0.111</td>\n",
       "      <td>5</td>\n",
       "      <td>88</td>\n",
       "      <td>0.409</td>\n",
       "      <td>...</td>\n",
       "      <td>0.409</td>\n",
       "      <td>0.43</td>\n",
       "      <td>0.727</td>\n",
       "      <td>127</td>\n",
       "      <td>11.545</td>\n",
       "      <td>256</td>\n",
       "      <td>342.76</td>\n",
       "      <td>8</td>\n",
       "      <td>{'square_ratio': 0.38, 'circuit_density': 0.21...</td>\n",
       "      <td>{'depth': 8, 'width': 21, 'size': 36, 'num_qub...</td>\n",
       "    </tr>\n",
       "  </tbody>\n",
       "</table>\n",
       "<p>1 rows × 24 columns</p>\n",
       "</div>"
      ],
      "text/plain": [
       "   gate_based_metrics.gate_count  gate_based_metrics.circuit_depth  \\\n",
       "0                             36                                 8   \n",
       "\n",
       "   gate_based_metrics.t_count  gate_based_metrics.cnot_count  \\\n",
       "0                           0                              4   \n",
       "\n",
       "   gate_based_metrics.two_qubit_count  gate_based_metrics.multi_qubit_ratio  \\\n",
       "0                                   4                                 0.028   \n",
       "\n",
       "   entanglement_metrics.entangling_gate_density  \\\n",
       "0                                         0.111   \n",
       "\n",
       "   entanglement_metrics.entangling_width  standardized_metrics.circuit_volume  \\\n",
       "0                                      5                                   88   \n",
       "\n",
       "   standardized_metrics.gate_density  ...  \\\n",
       "0                              0.409  ...   \n",
       "\n",
       "   advanced_metrics.circuit_efficiency  \\\n",
       "0                                0.409   \n",
       "\n",
       "   advanced_metrics.quantum_resource_utilization  \\\n",
       "0                                           0.43   \n",
       "\n",
       "   derived_metrics.square_ratio  derived_metrics.weighted_complexity  \\\n",
       "0                         0.727                                  127   \n",
       "\n",
       "   derived_metrics.normalized_weighted_complexity  \\\n",
       "0                                          11.545   \n",
       "\n",
       "   quantum_volume.standard_quantum_volume  \\\n",
       "0                                     256   \n",
       "\n",
       "   quantum_volume.enhanced_quantum_volume  quantum_volume.effective_depth  \\\n",
       "0                                  342.76                               8   \n",
       "\n",
       "                              quantum_volume.factors  \\\n",
       "0  {'square_ratio': 0.38, 'circuit_density': 0.21...   \n",
       "\n",
       "                      quantum_volume.circuit_metrics  \n",
       "0  {'depth': 8, 'width': 21, 'size': 36, 'num_qub...  \n",
       "\n",
       "[1 rows x 24 columns]"
      ]
     },
     "metadata": {},
     "output_type": "display_data"
    },
    {
     "name": "stdout",
     "output_type": "stream",
     "text": [
      "The oracle returns a constant value  0\n",
      "\n",
      "Example: Metrics via Scanner constructor (metric instances)\n",
      "QiskitMetrics DataFrame:\n"
     ]
    },
    {
     "data": {
      "text/html": [
       "<div>\n",
       "<style scoped>\n",
       "    .dataframe tbody tr th:only-of-type {\n",
       "        vertical-align: middle;\n",
       "    }\n",
       "\n",
       "    .dataframe tbody tr th {\n",
       "        vertical-align: top;\n",
       "    }\n",
       "\n",
       "    .dataframe thead th {\n",
       "        text-align: right;\n",
       "    }\n",
       "</style>\n",
       "<table border=\"1\" class=\"dataframe\">\n",
       "  <thead>\n",
       "    <tr style=\"text-align: right;\">\n",
       "      <th></th>\n",
       "      <th>basic_metrics.depth</th>\n",
       "      <th>basic_metrics.width</th>\n",
       "      <th>basic_metrics.size</th>\n",
       "      <th>basic_metrics.num_qubits</th>\n",
       "      <th>basic_metrics.num_clbits</th>\n",
       "      <th>basic_metrics.num_ancillas</th>\n",
       "      <th>basic_metrics.num_parameters</th>\n",
       "      <th>basic_metrics.has_calibrations</th>\n",
       "      <th>basic_metrics.has_layout</th>\n",
       "      <th>instruction_metrics.num_connected_components</th>\n",
       "      <th>...</th>\n",
       "      <th>basic_metrics.count_ops.h</th>\n",
       "      <th>basic_metrics.count_ops.measure</th>\n",
       "      <th>basic_metrics.count_ops.barrier</th>\n",
       "      <th>basic_metrics.count_ops.x</th>\n",
       "      <th>basic_metrics.count_ops.id</th>\n",
       "      <th>instruction_metrics.instructions.h</th>\n",
       "      <th>instruction_metrics.instructions.measure</th>\n",
       "      <th>instruction_metrics.instructions.barrier</th>\n",
       "      <th>instruction_metrics.instructions.x</th>\n",
       "      <th>instruction_metrics.instructions.id</th>\n",
       "    </tr>\n",
       "  </thead>\n",
       "  <tbody>\n",
       "    <tr>\n",
       "      <th>0</th>\n",
       "      <td>5</td>\n",
       "      <td>21</td>\n",
       "      <td>33</td>\n",
       "      <td>11</td>\n",
       "      <td>10</td>\n",
       "      <td>0</td>\n",
       "      <td>0</td>\n",
       "      <td>False</td>\n",
       "      <td>False</td>\n",
       "      <td>11</td>\n",
       "      <td>...</td>\n",
       "      <td>21</td>\n",
       "      <td>10</td>\n",
       "      <td>3</td>\n",
       "      <td>1</td>\n",
       "      <td>1</td>\n",
       "      <td>[(Instruction(name='h', num_qubits=1, num_clbi...</td>\n",
       "      <td>[(Instruction(name='measure', num_qubits=1, nu...</td>\n",
       "      <td>[(Instruction(name='barrier', num_qubits=11, n...</td>\n",
       "      <td>[(Instruction(name='x', num_qubits=1, num_clbi...</td>\n",
       "      <td>[(Instruction(name='id', num_qubits=1, num_clb...</td>\n",
       "    </tr>\n",
       "  </tbody>\n",
       "</table>\n",
       "<p>1 rows × 24 columns</p>\n",
       "</div>"
      ],
      "text/plain": [
       "   basic_metrics.depth  basic_metrics.width  basic_metrics.size  \\\n",
       "0                    5                   21                  33   \n",
       "\n",
       "   basic_metrics.num_qubits  basic_metrics.num_clbits  \\\n",
       "0                        11                        10   \n",
       "\n",
       "   basic_metrics.num_ancillas  basic_metrics.num_parameters  \\\n",
       "0                           0                             0   \n",
       "\n",
       "   basic_metrics.has_calibrations  basic_metrics.has_layout  \\\n",
       "0                           False                     False   \n",
       "\n",
       "   instruction_metrics.num_connected_components  ...  \\\n",
       "0                                            11  ...   \n",
       "\n",
       "   basic_metrics.count_ops.h  basic_metrics.count_ops.measure  \\\n",
       "0                         21                               10   \n",
       "\n",
       "   basic_metrics.count_ops.barrier  basic_metrics.count_ops.x  \\\n",
       "0                                3                          1   \n",
       "\n",
       "   basic_metrics.count_ops.id  \\\n",
       "0                           1   \n",
       "\n",
       "                  instruction_metrics.instructions.h  \\\n",
       "0  [(Instruction(name='h', num_qubits=1, num_clbi...   \n",
       "\n",
       "            instruction_metrics.instructions.measure  \\\n",
       "0  [(Instruction(name='measure', num_qubits=1, nu...   \n",
       "\n",
       "            instruction_metrics.instructions.barrier  \\\n",
       "0  [(Instruction(name='barrier', num_qubits=11, n...   \n",
       "\n",
       "                  instruction_metrics.instructions.x  \\\n",
       "0  [(Instruction(name='x', num_qubits=1, num_clbi...   \n",
       "\n",
       "                 instruction_metrics.instructions.id  \n",
       "0  [(Instruction(name='id', num_qubits=1, num_clb...  \n",
       "\n",
       "[1 rows x 24 columns]"
      ]
     },
     "metadata": {},
     "output_type": "display_data"
    },
    {
     "name": "stdout",
     "output_type": "stream",
     "text": [
      "ComplexityMetrics DataFrame:\n"
     ]
    },
    {
     "data": {
      "text/html": [
       "<div>\n",
       "<style scoped>\n",
       "    .dataframe tbody tr th:only-of-type {\n",
       "        vertical-align: middle;\n",
       "    }\n",
       "\n",
       "    .dataframe tbody tr th {\n",
       "        vertical-align: top;\n",
       "    }\n",
       "\n",
       "    .dataframe thead th {\n",
       "        text-align: right;\n",
       "    }\n",
       "</style>\n",
       "<table border=\"1\" class=\"dataframe\">\n",
       "  <thead>\n",
       "    <tr style=\"text-align: right;\">\n",
       "      <th></th>\n",
       "      <th>gate_based_metrics.gate_count</th>\n",
       "      <th>gate_based_metrics.circuit_depth</th>\n",
       "      <th>gate_based_metrics.t_count</th>\n",
       "      <th>gate_based_metrics.cnot_count</th>\n",
       "      <th>gate_based_metrics.two_qubit_count</th>\n",
       "      <th>gate_based_metrics.multi_qubit_ratio</th>\n",
       "      <th>entanglement_metrics.entangling_gate_density</th>\n",
       "      <th>entanglement_metrics.entangling_width</th>\n",
       "      <th>standardized_metrics.circuit_volume</th>\n",
       "      <th>standardized_metrics.gate_density</th>\n",
       "      <th>...</th>\n",
       "      <th>advanced_metrics.circuit_efficiency</th>\n",
       "      <th>advanced_metrics.quantum_resource_utilization</th>\n",
       "      <th>derived_metrics.square_ratio</th>\n",
       "      <th>derived_metrics.weighted_complexity</th>\n",
       "      <th>derived_metrics.normalized_weighted_complexity</th>\n",
       "      <th>quantum_volume.standard_quantum_volume</th>\n",
       "      <th>quantum_volume.enhanced_quantum_volume</th>\n",
       "      <th>quantum_volume.effective_depth</th>\n",
       "      <th>quantum_volume.factors</th>\n",
       "      <th>quantum_volume.circuit_metrics</th>\n",
       "    </tr>\n",
       "  </thead>\n",
       "  <tbody>\n",
       "    <tr>\n",
       "      <th>0</th>\n",
       "      <td>33</td>\n",
       "      <td>5</td>\n",
       "      <td>0</td>\n",
       "      <td>0</td>\n",
       "      <td>0</td>\n",
       "      <td>-0.091</td>\n",
       "      <td>0.0</td>\n",
       "      <td>1</td>\n",
       "      <td>55</td>\n",
       "      <td>0.6</td>\n",
       "      <td>...</td>\n",
       "      <td>0.6</td>\n",
       "      <td>0.796</td>\n",
       "      <td>0.455</td>\n",
       "      <td>88</td>\n",
       "      <td>8.0</td>\n",
       "      <td>32</td>\n",
       "      <td>39.66</td>\n",
       "      <td>5</td>\n",
       "      <td>{'square_ratio': 0.24, 'circuit_density': 0.31...</td>\n",
       "      <td>{'depth': 5, 'width': 21, 'size': 33, 'num_qub...</td>\n",
       "    </tr>\n",
       "  </tbody>\n",
       "</table>\n",
       "<p>1 rows × 24 columns</p>\n",
       "</div>"
      ],
      "text/plain": [
       "   gate_based_metrics.gate_count  gate_based_metrics.circuit_depth  \\\n",
       "0                             33                                 5   \n",
       "\n",
       "   gate_based_metrics.t_count  gate_based_metrics.cnot_count  \\\n",
       "0                           0                              0   \n",
       "\n",
       "   gate_based_metrics.two_qubit_count  gate_based_metrics.multi_qubit_ratio  \\\n",
       "0                                   0                                -0.091   \n",
       "\n",
       "   entanglement_metrics.entangling_gate_density  \\\n",
       "0                                           0.0   \n",
       "\n",
       "   entanglement_metrics.entangling_width  standardized_metrics.circuit_volume  \\\n",
       "0                                      1                                   55   \n",
       "\n",
       "   standardized_metrics.gate_density  ...  \\\n",
       "0                                0.6  ...   \n",
       "\n",
       "   advanced_metrics.circuit_efficiency  \\\n",
       "0                                  0.6   \n",
       "\n",
       "   advanced_metrics.quantum_resource_utilization  \\\n",
       "0                                          0.796   \n",
       "\n",
       "   derived_metrics.square_ratio  derived_metrics.weighted_complexity  \\\n",
       "0                         0.455                                   88   \n",
       "\n",
       "   derived_metrics.normalized_weighted_complexity  \\\n",
       "0                                             8.0   \n",
       "\n",
       "   quantum_volume.standard_quantum_volume  \\\n",
       "0                                      32   \n",
       "\n",
       "   quantum_volume.enhanced_quantum_volume  quantum_volume.effective_depth  \\\n",
       "0                                   39.66                               5   \n",
       "\n",
       "                              quantum_volume.factors  \\\n",
       "0  {'square_ratio': 0.24, 'circuit_density': 0.31...   \n",
       "\n",
       "                      quantum_volume.circuit_metrics  \n",
       "0  {'depth': 5, 'width': 21, 'size': 33, 'num_qub...  \n",
       "\n",
       "[1 rows x 24 columns]"
      ]
     },
     "metadata": {},
     "output_type": "display_data"
    },
    {
     "name": "stdout",
     "output_type": "stream",
     "text": [
      "The oracle returns a constant value  0\n",
      "\n",
      "Example 7: Using SuccessRate with multiple Aer simulator jobs\n",
      "\n",
      "Success rate individual jobs DataFrame:\n"
     ]
    },
    {
     "data": {
      "text/html": [
       "<div>\n",
       "<style scoped>\n",
       "    .dataframe tbody tr th:only-of-type {\n",
       "        vertical-align: middle;\n",
       "    }\n",
       "\n",
       "    .dataframe tbody tr th {\n",
       "        vertical-align: top;\n",
       "    }\n",
       "\n",
       "    .dataframe thead th {\n",
       "        text-align: right;\n",
       "    }\n",
       "</style>\n",
       "<table border=\"1\" class=\"dataframe\">\n",
       "  <thead>\n",
       "    <tr style=\"text-align: right;\">\n",
       "      <th></th>\n",
       "      <th>job_id</th>\n",
       "      <th>success_rate</th>\n",
       "      <th>error_rate</th>\n",
       "      <th>fidelity</th>\n",
       "      <th>total_shots</th>\n",
       "      <th>successful_shots</th>\n",
       "    </tr>\n",
       "  </thead>\n",
       "  <tbody>\n",
       "    <tr>\n",
       "      <th>0</th>\n",
       "      <td>38586ff1-cb81-4144-8e3a-edc452dd06d8</td>\n",
       "      <td>0.0</td>\n",
       "      <td>1.0</td>\n",
       "      <td>1.000000</td>\n",
       "      <td>1024</td>\n",
       "      <td>0</td>\n",
       "    </tr>\n",
       "    <tr>\n",
       "      <th>1</th>\n",
       "      <td>6d36244a-253c-494f-8b81-c7dbab50df34</td>\n",
       "      <td>0.0</td>\n",
       "      <td>1.0</td>\n",
       "      <td>0.367188</td>\n",
       "      <td>1024</td>\n",
       "      <td>0</td>\n",
       "    </tr>\n",
       "    <tr>\n",
       "      <th>2</th>\n",
       "      <td>bc2011a5-ed32-4199-9891-536c13b64029</td>\n",
       "      <td>0.0</td>\n",
       "      <td>1.0</td>\n",
       "      <td>0.586914</td>\n",
       "      <td>1024</td>\n",
       "      <td>0</td>\n",
       "    </tr>\n",
       "  </tbody>\n",
       "</table>\n",
       "</div>"
      ],
      "text/plain": [
       "                                 job_id  success_rate  error_rate  fidelity  \\\n",
       "0  38586ff1-cb81-4144-8e3a-edc452dd06d8           0.0         1.0  1.000000   \n",
       "1  6d36244a-253c-494f-8b81-c7dbab50df34           0.0         1.0  0.367188   \n",
       "2  bc2011a5-ed32-4199-9891-536c13b64029           0.0         1.0  0.586914   \n",
       "\n",
       "   total_shots  successful_shots  \n",
       "0         1024                 0  \n",
       "1         1024                 0  \n",
       "2         1024                 0  "
      ]
     },
     "metadata": {},
     "output_type": "display_data"
    },
    {
     "name": "stdout",
     "output_type": "stream",
     "text": [
      "\n",
      "Success rate aggregate metrics DataFrame:\n"
     ]
    },
    {
     "data": {
      "text/html": [
       "<div>\n",
       "<style scoped>\n",
       "    .dataframe tbody tr th:only-of-type {\n",
       "        vertical-align: middle;\n",
       "    }\n",
       "\n",
       "    .dataframe tbody tr th {\n",
       "        vertical-align: top;\n",
       "    }\n",
       "\n",
       "    .dataframe thead th {\n",
       "        text-align: right;\n",
       "    }\n",
       "</style>\n",
       "<table border=\"1\" class=\"dataframe\">\n",
       "  <thead>\n",
       "    <tr style=\"text-align: right;\">\n",
       "      <th></th>\n",
       "      <th>mean_success_rate</th>\n",
       "      <th>std_success_rate</th>\n",
       "      <th>min_success_rate</th>\n",
       "      <th>max_success_rate</th>\n",
       "      <th>total_trials</th>\n",
       "      <th>fidelity</th>\n",
       "      <th>error_rate</th>\n",
       "    </tr>\n",
       "  </thead>\n",
       "  <tbody>\n",
       "    <tr>\n",
       "      <th>0</th>\n",
       "      <td>0.0</td>\n",
       "      <td>0.0</td>\n",
       "      <td>0.0</td>\n",
       "      <td>0.0</td>\n",
       "      <td>3072</td>\n",
       "      <td>0.651367</td>\n",
       "      <td>1.0</td>\n",
       "    </tr>\n",
       "  </tbody>\n",
       "</table>\n",
       "</div>"
      ],
      "text/plain": [
       "   mean_success_rate  std_success_rate  min_success_rate  max_success_rate  \\\n",
       "0                0.0               0.0               0.0               0.0   \n",
       "\n",
       "   total_trials  fidelity  error_rate  \n",
       "0          3072  0.651367         1.0  "
      ]
     },
     "metadata": {},
     "output_type": "display_data"
    },
    {
     "name": "stdout",
     "output_type": "stream",
     "text": [
      "\n",
      "Individual job results:\n",
      "Job 1 success rate: 1.0000\n",
      "Job 1 counts: {'0000000000': 1024}\n",
      "Job 2 success rate: 0.3672\n",
      "Job 2 counts: {'1000100100': 1, '0010001100': 1, '0000011010': 1, '1001100001': 1, '0000001101': 1, '0010000101': 1, '0101100000': 1, '0010000011': 1, '0100100010': 1, '1010000010': 1, '0011000100': 1, '1000000001': 4, '1000000110': 1, '0000110100': 1, '1001000100': 2, '1000101000': 1, '0000000111': 1, '0001000101': 1, '0110001000': 2, '0000010110': 1, '0000011000': 4, '1101000100': 1, '0100000101': 1, '0001000100': 3, '0000000011': 3, '0010000001': 6, '0101000110': 1, '0000010010': 2, '0011000011': 1, '0000110000': 8, '0101001000': 1, '0100100000': 5, '0011100010': 1, '0000100100': 5, '1000001001': 1, '0001001000': 3, '0001000010': 5, '0100000000': 32, '1000010100': 3, '1001000000': 2, '1100000000': 5, '1010000000': 2, '0000001010': 4, '0101010000': 2, '0001000000': 29, '0000001100': 5, '0000101000': 2, '1100000100': 1, '0100001010': 1, '0100010001': 2, '0100001000': 5, '0011010000': 1, '1000100010': 1, '0000001000': 34, '0010010100': 1, '1100000011': 1, '0100011000': 1, '1001010000': 1, '0000010101': 1, '0100000010': 4, '0111000000': 1, '0110000000': 8, '1011000000': 1, '0100110000': 3, '1000010000': 7, '0000010001': 3, '0000000100': 48, '0010001000': 2, '0010010001': 1, '0001010000': 4, '0000100001': 2, '1000100000': 4, '0011000010': 1, '0000100011': 1, '0011000000': 6, '0010000100': 3, '0000101100': 1, '0100000100': 8, '0111011000': 1, '0101000000': 4, '1100000001': 1, '0101000001': 1, '0001001010': 1, '1101000000': 2, '0000000110': 7, '0001100000': 3, '0010010000': 6, '1110000000': 1, '0010001010': 1, '1010001000': 1, '0000001011': 2, '0000001001': 9, '1010100000': 1, '0010100000': 3, '1000000000': 34, '0011000001': 2, '1000000100': 9, '0000000001': 35, '0001000001': 8, '0001010010': 1, '0000100000': 33, '0000000010': 43, '0001110000': 2, '0110010010': 1, '0010000000': 44, '0100000001': 4, '0010000010': 4, '1000010010': 2, '0000100010': 2, '0000010100': 4, '1001000010': 1, '1100100000': 2, '0000101010': 1, '0000101001': 1, '0001111000': 1, '0100010000': 5, '1000001000': 2, '0000011001': 2, '0000010000': 38, '0000000101': 3, '0000000000': 376}\n",
      "Job 3 success rate: 0.5869\n",
      "Job 3 counts: {'0001010100': 1, '0100001000': 1, '0000100001': 1, '0000001001': 1, '0010001000': 1, '1000000001': 2, '0100100100': 1, '0011000000': 1, '0000001100': 5, '0000101000': 1, '0000001010': 2, '0100000010': 1, '0000100010': 5, '0010000010': 3, '0100000100': 1, '0010000100': 4, '0100100000': 1, '0000110000': 1, '1010000000': 5, '1000000010': 2, '0000100100': 1, '0001100000': 1, '1100000000': 1, '0100010000': 1, '1000001000': 1, '0000000011': 4, '0110000000': 2, '0011000100': 1, '0010000001': 2, '1000010001': 1, '0000010010': 3, '0000001000': 29, '1000010000': 3, '0001001000': 1, '0101000000': 1, '1000000100': 2, '0000000001': 36, '0001101000': 1, '0001000010': 3, '0010100000': 1, '1000000000': 30, '0000000100': 35, '0100000000': 35, '0000100000': 31, '0001000000': 30, '0000010100': 3, '0011001000': 1, '0001000001': 2, '0010000000': 37, '0000000010': 40, '0000000000': 601, '0000010000': 39, '0010010000': 3, '0110000100': 1, '0100000001': 1}\n"
     ]
    }
   ],
   "source": [
    "from example_deutsch_jozsa_constructor import main\n",
    "\n",
    "main()"
   ]
  },
  {
   "cell_type": "code",
   "execution_count": 35,
   "id": "ac40601d",
   "metadata": {},
   "outputs": [
    {
     "name": "stdout",
     "output_type": "stream",
     "text": [
      "The oracle returns a constant value  1\n",
      "\n",
      "Example 7: Using SuccessRate with multiple Aer simulator jobs\n",
      "\n",
      "Success rate individual jobs DataFrame:\n"
     ]
    },
    {
     "data": {
      "text/html": [
       "<div>\n",
       "<style scoped>\n",
       "    .dataframe tbody tr th:only-of-type {\n",
       "        vertical-align: middle;\n",
       "    }\n",
       "\n",
       "    .dataframe tbody tr th {\n",
       "        vertical-align: top;\n",
       "    }\n",
       "\n",
       "    .dataframe thead th {\n",
       "        text-align: right;\n",
       "    }\n",
       "</style>\n",
       "<table border=\"1\" class=\"dataframe\">\n",
       "  <thead>\n",
       "    <tr style=\"text-align: right;\">\n",
       "      <th></th>\n",
       "      <th>job_id</th>\n",
       "      <th>success_rate</th>\n",
       "      <th>error_rate</th>\n",
       "      <th>fidelity</th>\n",
       "      <th>total_shots</th>\n",
       "      <th>successful_shots</th>\n",
       "    </tr>\n",
       "  </thead>\n",
       "  <tbody>\n",
       "    <tr>\n",
       "      <th>0</th>\n",
       "      <td>b7d1dc61-a65e-45d7-ba69-dfaf72ea415c</td>\n",
       "      <td>0.0</td>\n",
       "      <td>1.0</td>\n",
       "      <td>1.000000</td>\n",
       "      <td>1024</td>\n",
       "      <td>0</td>\n",
       "    </tr>\n",
       "    <tr>\n",
       "      <th>1</th>\n",
       "      <td>9ec83931-faf9-4815-84ae-b09faa65c545</td>\n",
       "      <td>0.0</td>\n",
       "      <td>1.0</td>\n",
       "      <td>0.336914</td>\n",
       "      <td>1024</td>\n",
       "      <td>0</td>\n",
       "    </tr>\n",
       "    <tr>\n",
       "      <th>2</th>\n",
       "      <td>58ed8a1b-ae39-4b08-b683-78437d8a520c</td>\n",
       "      <td>0.0</td>\n",
       "      <td>1.0</td>\n",
       "      <td>0.601562</td>\n",
       "      <td>1024</td>\n",
       "      <td>0</td>\n",
       "    </tr>\n",
       "  </tbody>\n",
       "</table>\n",
       "</div>"
      ],
      "text/plain": [
       "                                 job_id  success_rate  error_rate  fidelity  \\\n",
       "0  b7d1dc61-a65e-45d7-ba69-dfaf72ea415c           0.0         1.0  1.000000   \n",
       "1  9ec83931-faf9-4815-84ae-b09faa65c545           0.0         1.0  0.336914   \n",
       "2  58ed8a1b-ae39-4b08-b683-78437d8a520c           0.0         1.0  0.601562   \n",
       "\n",
       "   total_shots  successful_shots  \n",
       "0         1024                 0  \n",
       "1         1024                 0  \n",
       "2         1024                 0  "
      ]
     },
     "metadata": {},
     "output_type": "display_data"
    },
    {
     "name": "stdout",
     "output_type": "stream",
     "text": [
      "\n",
      "Success rate aggregate metrics DataFrame:\n"
     ]
    },
    {
     "data": {
      "text/html": [
       "<div>\n",
       "<style scoped>\n",
       "    .dataframe tbody tr th:only-of-type {\n",
       "        vertical-align: middle;\n",
       "    }\n",
       "\n",
       "    .dataframe tbody tr th {\n",
       "        vertical-align: top;\n",
       "    }\n",
       "\n",
       "    .dataframe thead th {\n",
       "        text-align: right;\n",
       "    }\n",
       "</style>\n",
       "<table border=\"1\" class=\"dataframe\">\n",
       "  <thead>\n",
       "    <tr style=\"text-align: right;\">\n",
       "      <th></th>\n",
       "      <th>mean_success_rate</th>\n",
       "      <th>std_success_rate</th>\n",
       "      <th>min_success_rate</th>\n",
       "      <th>max_success_rate</th>\n",
       "      <th>total_trials</th>\n",
       "      <th>fidelity</th>\n",
       "      <th>error_rate</th>\n",
       "    </tr>\n",
       "  </thead>\n",
       "  <tbody>\n",
       "    <tr>\n",
       "      <th>0</th>\n",
       "      <td>0.0</td>\n",
       "      <td>0.0</td>\n",
       "      <td>0.0</td>\n",
       "      <td>0.0</td>\n",
       "      <td>3072</td>\n",
       "      <td>0.646159</td>\n",
       "      <td>1.0</td>\n",
       "    </tr>\n",
       "  </tbody>\n",
       "</table>\n",
       "</div>"
      ],
      "text/plain": [
       "   mean_success_rate  std_success_rate  min_success_rate  max_success_rate  \\\n",
       "0                0.0               0.0               0.0               0.0   \n",
       "\n",
       "   total_trials  fidelity  error_rate  \n",
       "0          3072  0.646159         1.0  "
      ]
     },
     "metadata": {},
     "output_type": "display_data"
    },
    {
     "name": "stdout",
     "output_type": "stream",
     "text": [
      "\n",
      "Individual job results:\n",
      "Job 1 success rate: 1.0000\n",
      "Job 1 counts: {'0000000000': 1024}\n",
      "Job 2 success rate: 0.3369\n",
      "Job 2 counts: {'0000000110': 2, '0100100010': 1, '0101100000': 1, '0001000001': 2, '1100000010': 1, '0100100100': 1, '1110000000': 1, '1010000110': 1, '0011000100': 1, '1100001000': 1, '0010000101': 1, '0101101100': 1, '0010011000': 1, '1000000101': 1, '1000000011': 2, '0100001010': 1, '0101000100': 1, '1010001000': 1, '0000001011': 1, '0011000001': 1, '1010100000': 1, '0000000001': 34, '1001000001': 1, '0001000011': 2, '1000000110': 1, '0000000111': 2, '1000101010': 1, '0100010001': 1, '0110100000': 1, '0000011010': 1, '0000000011': 4, '0110000000': 6, '1000001100': 3, '1000010001': 1, '0000010010': 2, '0101000110': 1, '0010100010': 1, '0010000001': 8, '0001110000': 1, '0000010101': 1, '1000000010': 3, '0100000010': 4, '1010000010': 2, '1001000000': 1, '1100000000': 6, '0101000000': 2, '0001000010': 2, '0000100001': 8, '0000110010': 1, '0000100011': 2, '0010100100': 2, '0011000010': 1, '0000110100': 1, '0100000000': 41, '1000010100': 1, '0100101000': 1, '1001110100': 1, '0010000110': 2, '0110010000': 1, '0100001000': 4, '0000010100': 2, '0010011100': 1, '0100010010': 1, '0000001000': 35, '0000010001': 5, '0000110001': 1, '1000010000': 4, '0001010000': 6, '0001000100': 4, '0100011000': 2, '0001001000': 6, '0010000100': 4, '0000101100': 1, '0100000100': 4, '0100001100': 2, '0100000001': 3, '0010000010': 4, '0010110000': 1, '0000100010': 7, '0001100000': 3, '0000100100': 7, '0010010000': 5, '0011000000': 7, '1000001010': 1, '0000000101': 2, '0000000000': 345, '0010100000': 3, '0000100110': 1, '0000010000': 44, '1000100000': 3, '1100100000': 1, '0000101010': 1, '0010000000': 39, '0000000010': 51, '0000001001': 7, '0000110000': 8, '0011100000': 1, '1010000000': 11, '1000000000': 42, '1000110000': 1, '0001101000': 2, '1000000100': 4, '0111010000': 1, '0000001100': 4, '0001000000': 35, '0110000001': 1, '0010001000': 4, '0000000100': 45, '0000001010': 5, '0000001101': 1, '1000000001': 6, '0101000010': 1, '1100000100': 1, '0000101000': 3, '0100010000': 2, '1000001000': 3, '1011000000': 1, '0000011000': 2, '0000010110': 1, '0011010000': 1, '0000111000': 1, '1000100001': 3, '0000100000': 39}\n",
      "Job 3 success rate: 0.6016\n",
      "Job 3 counts: {'1000100001': 1, '0100000010': 1, '0110000100': 1, '0010001000': 1, '0110000010': 1, '0000010010': 1, '1000001000': 1, '1001000000': 1, '1000000110': 1, '0000001010': 1, '0010000001': 3, '0000000000': 616, '0000000101': 2, '0000100100': 4, '0001100000': 1, '1000000010': 3, '1001000100': 1, '0100100000': 1, '0000110000': 1, '1010000000': 7, '0100000100': 2, '0010000100': 4, '0000001001': 1, '0010010001': 1, '0000001000': 28, '1000010000': 3, '0100010010': 1, '0001010000': 1, '0001000100': 2, '0001000010': 2, '1000100000': 3, '1000101000': 1, '1100000000': 2, '0010010000': 2, '0000000001': 36, '1000000100': 1, '0101000000': 2, '0000011000': 2, '0001000000': 35, '0000100010': 2, '0010000010': 3, '0100001000': 2, '0010000000': 33, '0000000010': 37, '0101100000': 1, '0000100000': 34, '0001000001': 2, '0000000110': 2, '0001001000': 3, '0000000100': 24, '0100000000': 31, '0100000001': 4, '0000010000': 26, '0000001100': 1, '0010100000': 2, '1000000000': 36, '0000000011': 1, '0110000000': 2}\n"
     ]
    },
    {
     "data": {
      "text/plain": [
       "[<qiskit_aer.jobs.aerjob.AerJob at 0x1415d5760>,\n",
       " <qiskit_aer.jobs.aerjob.AerJob at 0x1415d76b0>,\n",
       " <qiskit_aer.jobs.aerjob.AerJob at 0x1415c6270>]"
      ]
     },
     "execution_count": 35,
     "metadata": {},
     "output_type": "execute_result"
    }
   ],
   "source": [
    "from example_deutsch_jozsa_constructor import example_multiple_jobs_success_rate, create_example_dj\n",
    "scanner, jobs = example_multiple_jobs_success_rate(create_example_dj(10),10)\n",
    "jobs"
   ]
  },
  {
   "cell_type": "code",
   "execution_count": 36,
   "id": "62d18639",
   "metadata": {},
   "outputs": [
    {
     "data": {
      "application/vnd.plotly.v1+json": {
       "config": {
        "plotlyServerURL": "https://plot.ly"
       },
       "data": [
        {
         "hovertemplate": "Batch=%{x}<br>Success Rate=%{y}<extra></extra>",
         "legendgroup": "",
         "line": {
          "color": "#636efa",
          "dash": "solid"
         },
         "marker": {
          "symbol": "circle"
         },
         "mode": "lines",
         "name": "",
         "orientation": "v",
         "showlegend": false,
         "type": "scatter",
         "x": [
          "Batch Job 1",
          "Batch Job 2",
          "Batch Job 3"
         ],
         "xaxis": "x",
         "y": {
          "bdata": "AAAAAAAA8D8AAAAAAJDVPwAAAAAAQOM/",
          "dtype": "f8"
         },
         "yaxis": "y"
        }
       ],
       "layout": {
        "legend": {
         "tracegroupgap": 0
        },
        "template": {
         "data": {
          "bar": [
           {
            "error_x": {
             "color": "#2a3f5f"
            },
            "error_y": {
             "color": "#2a3f5f"
            },
            "marker": {
             "line": {
              "color": "#E5ECF6",
              "width": 0.5
             },
             "pattern": {
              "fillmode": "overlay",
              "size": 10,
              "solidity": 0.2
             }
            },
            "type": "bar"
           }
          ],
          "barpolar": [
           {
            "marker": {
             "line": {
              "color": "#E5ECF6",
              "width": 0.5
             },
             "pattern": {
              "fillmode": "overlay",
              "size": 10,
              "solidity": 0.2
             }
            },
            "type": "barpolar"
           }
          ],
          "carpet": [
           {
            "aaxis": {
             "endlinecolor": "#2a3f5f",
             "gridcolor": "white",
             "linecolor": "white",
             "minorgridcolor": "white",
             "startlinecolor": "#2a3f5f"
            },
            "baxis": {
             "endlinecolor": "#2a3f5f",
             "gridcolor": "white",
             "linecolor": "white",
             "minorgridcolor": "white",
             "startlinecolor": "#2a3f5f"
            },
            "type": "carpet"
           }
          ],
          "choropleth": [
           {
            "colorbar": {
             "outlinewidth": 0,
             "ticks": ""
            },
            "type": "choropleth"
           }
          ],
          "contour": [
           {
            "colorbar": {
             "outlinewidth": 0,
             "ticks": ""
            },
            "colorscale": [
             [
              0,
              "#0d0887"
             ],
             [
              0.1111111111111111,
              "#46039f"
             ],
             [
              0.2222222222222222,
              "#7201a8"
             ],
             [
              0.3333333333333333,
              "#9c179e"
             ],
             [
              0.4444444444444444,
              "#bd3786"
             ],
             [
              0.5555555555555556,
              "#d8576b"
             ],
             [
              0.6666666666666666,
              "#ed7953"
             ],
             [
              0.7777777777777778,
              "#fb9f3a"
             ],
             [
              0.8888888888888888,
              "#fdca26"
             ],
             [
              1,
              "#f0f921"
             ]
            ],
            "type": "contour"
           }
          ],
          "contourcarpet": [
           {
            "colorbar": {
             "outlinewidth": 0,
             "ticks": ""
            },
            "type": "contourcarpet"
           }
          ],
          "heatmap": [
           {
            "colorbar": {
             "outlinewidth": 0,
             "ticks": ""
            },
            "colorscale": [
             [
              0,
              "#0d0887"
             ],
             [
              0.1111111111111111,
              "#46039f"
             ],
             [
              0.2222222222222222,
              "#7201a8"
             ],
             [
              0.3333333333333333,
              "#9c179e"
             ],
             [
              0.4444444444444444,
              "#bd3786"
             ],
             [
              0.5555555555555556,
              "#d8576b"
             ],
             [
              0.6666666666666666,
              "#ed7953"
             ],
             [
              0.7777777777777778,
              "#fb9f3a"
             ],
             [
              0.8888888888888888,
              "#fdca26"
             ],
             [
              1,
              "#f0f921"
             ]
            ],
            "type": "heatmap"
           }
          ],
          "histogram": [
           {
            "marker": {
             "pattern": {
              "fillmode": "overlay",
              "size": 10,
              "solidity": 0.2
             }
            },
            "type": "histogram"
           }
          ],
          "histogram2d": [
           {
            "colorbar": {
             "outlinewidth": 0,
             "ticks": ""
            },
            "colorscale": [
             [
              0,
              "#0d0887"
             ],
             [
              0.1111111111111111,
              "#46039f"
             ],
             [
              0.2222222222222222,
              "#7201a8"
             ],
             [
              0.3333333333333333,
              "#9c179e"
             ],
             [
              0.4444444444444444,
              "#bd3786"
             ],
             [
              0.5555555555555556,
              "#d8576b"
             ],
             [
              0.6666666666666666,
              "#ed7953"
             ],
             [
              0.7777777777777778,
              "#fb9f3a"
             ],
             [
              0.8888888888888888,
              "#fdca26"
             ],
             [
              1,
              "#f0f921"
             ]
            ],
            "type": "histogram2d"
           }
          ],
          "histogram2dcontour": [
           {
            "colorbar": {
             "outlinewidth": 0,
             "ticks": ""
            },
            "colorscale": [
             [
              0,
              "#0d0887"
             ],
             [
              0.1111111111111111,
              "#46039f"
             ],
             [
              0.2222222222222222,
              "#7201a8"
             ],
             [
              0.3333333333333333,
              "#9c179e"
             ],
             [
              0.4444444444444444,
              "#bd3786"
             ],
             [
              0.5555555555555556,
              "#d8576b"
             ],
             [
              0.6666666666666666,
              "#ed7953"
             ],
             [
              0.7777777777777778,
              "#fb9f3a"
             ],
             [
              0.8888888888888888,
              "#fdca26"
             ],
             [
              1,
              "#f0f921"
             ]
            ],
            "type": "histogram2dcontour"
           }
          ],
          "mesh3d": [
           {
            "colorbar": {
             "outlinewidth": 0,
             "ticks": ""
            },
            "type": "mesh3d"
           }
          ],
          "parcoords": [
           {
            "line": {
             "colorbar": {
              "outlinewidth": 0,
              "ticks": ""
             }
            },
            "type": "parcoords"
           }
          ],
          "pie": [
           {
            "automargin": true,
            "type": "pie"
           }
          ],
          "scatter": [
           {
            "fillpattern": {
             "fillmode": "overlay",
             "size": 10,
             "solidity": 0.2
            },
            "type": "scatter"
           }
          ],
          "scatter3d": [
           {
            "line": {
             "colorbar": {
              "outlinewidth": 0,
              "ticks": ""
             }
            },
            "marker": {
             "colorbar": {
              "outlinewidth": 0,
              "ticks": ""
             }
            },
            "type": "scatter3d"
           }
          ],
          "scattercarpet": [
           {
            "marker": {
             "colorbar": {
              "outlinewidth": 0,
              "ticks": ""
             }
            },
            "type": "scattercarpet"
           }
          ],
          "scattergeo": [
           {
            "marker": {
             "colorbar": {
              "outlinewidth": 0,
              "ticks": ""
             }
            },
            "type": "scattergeo"
           }
          ],
          "scattergl": [
           {
            "marker": {
             "colorbar": {
              "outlinewidth": 0,
              "ticks": ""
             }
            },
            "type": "scattergl"
           }
          ],
          "scattermap": [
           {
            "marker": {
             "colorbar": {
              "outlinewidth": 0,
              "ticks": ""
             }
            },
            "type": "scattermap"
           }
          ],
          "scattermapbox": [
           {
            "marker": {
             "colorbar": {
              "outlinewidth": 0,
              "ticks": ""
             }
            },
            "type": "scattermapbox"
           }
          ],
          "scatterpolar": [
           {
            "marker": {
             "colorbar": {
              "outlinewidth": 0,
              "ticks": ""
             }
            },
            "type": "scatterpolar"
           }
          ],
          "scatterpolargl": [
           {
            "marker": {
             "colorbar": {
              "outlinewidth": 0,
              "ticks": ""
             }
            },
            "type": "scatterpolargl"
           }
          ],
          "scatterternary": [
           {
            "marker": {
             "colorbar": {
              "outlinewidth": 0,
              "ticks": ""
             }
            },
            "type": "scatterternary"
           }
          ],
          "surface": [
           {
            "colorbar": {
             "outlinewidth": 0,
             "ticks": ""
            },
            "colorscale": [
             [
              0,
              "#0d0887"
             ],
             [
              0.1111111111111111,
              "#46039f"
             ],
             [
              0.2222222222222222,
              "#7201a8"
             ],
             [
              0.3333333333333333,
              "#9c179e"
             ],
             [
              0.4444444444444444,
              "#bd3786"
             ],
             [
              0.5555555555555556,
              "#d8576b"
             ],
             [
              0.6666666666666666,
              "#ed7953"
             ],
             [
              0.7777777777777778,
              "#fb9f3a"
             ],
             [
              0.8888888888888888,
              "#fdca26"
             ],
             [
              1,
              "#f0f921"
             ]
            ],
            "type": "surface"
           }
          ],
          "table": [
           {
            "cells": {
             "fill": {
              "color": "#EBF0F8"
             },
             "line": {
              "color": "white"
             }
            },
            "header": {
             "fill": {
              "color": "#C8D4E3"
             },
             "line": {
              "color": "white"
             }
            },
            "type": "table"
           }
          ]
         },
         "layout": {
          "annotationdefaults": {
           "arrowcolor": "#2a3f5f",
           "arrowhead": 0,
           "arrowwidth": 1
          },
          "autotypenumbers": "strict",
          "coloraxis": {
           "colorbar": {
            "outlinewidth": 0,
            "ticks": ""
           }
          },
          "colorscale": {
           "diverging": [
            [
             0,
             "#8e0152"
            ],
            [
             0.1,
             "#c51b7d"
            ],
            [
             0.2,
             "#de77ae"
            ],
            [
             0.3,
             "#f1b6da"
            ],
            [
             0.4,
             "#fde0ef"
            ],
            [
             0.5,
             "#f7f7f7"
            ],
            [
             0.6,
             "#e6f5d0"
            ],
            [
             0.7,
             "#b8e186"
            ],
            [
             0.8,
             "#7fbc41"
            ],
            [
             0.9,
             "#4d9221"
            ],
            [
             1,
             "#276419"
            ]
           ],
           "sequential": [
            [
             0,
             "#0d0887"
            ],
            [
             0.1111111111111111,
             "#46039f"
            ],
            [
             0.2222222222222222,
             "#7201a8"
            ],
            [
             0.3333333333333333,
             "#9c179e"
            ],
            [
             0.4444444444444444,
             "#bd3786"
            ],
            [
             0.5555555555555556,
             "#d8576b"
            ],
            [
             0.6666666666666666,
             "#ed7953"
            ],
            [
             0.7777777777777778,
             "#fb9f3a"
            ],
            [
             0.8888888888888888,
             "#fdca26"
            ],
            [
             1,
             "#f0f921"
            ]
           ],
           "sequentialminus": [
            [
             0,
             "#0d0887"
            ],
            [
             0.1111111111111111,
             "#46039f"
            ],
            [
             0.2222222222222222,
             "#7201a8"
            ],
            [
             0.3333333333333333,
             "#9c179e"
            ],
            [
             0.4444444444444444,
             "#bd3786"
            ],
            [
             0.5555555555555556,
             "#d8576b"
            ],
            [
             0.6666666666666666,
             "#ed7953"
            ],
            [
             0.7777777777777778,
             "#fb9f3a"
            ],
            [
             0.8888888888888888,
             "#fdca26"
            ],
            [
             1,
             "#f0f921"
            ]
           ]
          },
          "colorway": [
           "#636efa",
           "#EF553B",
           "#00cc96",
           "#ab63fa",
           "#FFA15A",
           "#19d3f3",
           "#FF6692",
           "#B6E880",
           "#FF97FF",
           "#FECB52"
          ],
          "font": {
           "color": "#2a3f5f"
          },
          "geo": {
           "bgcolor": "white",
           "lakecolor": "white",
           "landcolor": "#E5ECF6",
           "showlakes": true,
           "showland": true,
           "subunitcolor": "white"
          },
          "hoverlabel": {
           "align": "left"
          },
          "hovermode": "closest",
          "mapbox": {
           "style": "light"
          },
          "paper_bgcolor": "white",
          "plot_bgcolor": "#E5ECF6",
          "polar": {
           "angularaxis": {
            "gridcolor": "white",
            "linecolor": "white",
            "ticks": ""
           },
           "bgcolor": "#E5ECF6",
           "radialaxis": {
            "gridcolor": "white",
            "linecolor": "white",
            "ticks": ""
           }
          },
          "scene": {
           "xaxis": {
            "backgroundcolor": "#E5ECF6",
            "gridcolor": "white",
            "gridwidth": 2,
            "linecolor": "white",
            "showbackground": true,
            "ticks": "",
            "zerolinecolor": "white"
           },
           "yaxis": {
            "backgroundcolor": "#E5ECF6",
            "gridcolor": "white",
            "gridwidth": 2,
            "linecolor": "white",
            "showbackground": true,
            "ticks": "",
            "zerolinecolor": "white"
           },
           "zaxis": {
            "backgroundcolor": "#E5ECF6",
            "gridcolor": "white",
            "gridwidth": 2,
            "linecolor": "white",
            "showbackground": true,
            "ticks": "",
            "zerolinecolor": "white"
           }
          },
          "shapedefaults": {
           "line": {
            "color": "#2a3f5f"
           }
          },
          "ternary": {
           "aaxis": {
            "gridcolor": "white",
            "linecolor": "white",
            "ticks": ""
           },
           "baxis": {
            "gridcolor": "white",
            "linecolor": "white",
            "ticks": ""
           },
           "bgcolor": "#E5ECF6",
           "caxis": {
            "gridcolor": "white",
            "linecolor": "white",
            "ticks": ""
           }
          },
          "title": {
           "x": 0.05
          },
          "xaxis": {
           "automargin": true,
           "gridcolor": "white",
           "linecolor": "white",
           "ticks": "",
           "title": {
            "standoff": 15
           },
           "zerolinecolor": "white",
           "zerolinewidth": 2
          },
          "yaxis": {
           "automargin": true,
           "gridcolor": "white",
           "linecolor": "white",
           "ticks": "",
           "title": {
            "standoff": 15
           },
           "zerolinecolor": "white",
           "zerolinewidth": 2
          }
         }
        },
        "title": {
         "text": "Success rate of 3 batches"
        },
        "xaxis": {
         "anchor": "y",
         "domain": [
          0,
          1
         ],
         "title": {
          "text": "Batch"
         }
        },
        "yaxis": {
         "anchor": "x",
         "domain": [
          0,
          1
         ],
         "title": {
          "text": "Success Rate"
         }
        }
       }
      }
     },
     "metadata": {},
     "output_type": "display_data"
    }
   ],
   "source": [
    "import plotly.express as px\n",
    "import pandas as pd\n",
    "\n",
    "def success_over_time_lines(jobs, n):\n",
    "    df = pd.DataFrame({\"Batch\":[],\n",
    "                       \"Success Rate\":[]})\n",
    "    for i, job in enumerate(jobs):\n",
    "        \n",
    "        result = job.result()\n",
    "        counts = result.get_counts()\n",
    "        total_shots = sum(counts.values())\n",
    "        successful_shots = counts.get('0'*n, 0)\n",
    "        success_rate = successful_shots / total_shots if total_shots > 0 else 0.0\n",
    "\n",
    "        batch = pd.DataFrame(\n",
    "            {\n",
    "                \"Batch\":[f\"Batch Job {i+1}\"],\n",
    "                \"Success Rate\":[success_rate]\n",
    "            })\n",
    "        df = pd.concat([df, batch])\n",
    "    \n",
    "    fig = px.line(df, x=\"Batch\", y=\"Success Rate\", title=f'Success rate of {i+1} batches')\n",
    "    fig.show()\n",
    "\n",
    "success_over_time_lines(jobs=jobs, n=10)"
   ]
  },
  {
   "cell_type": "code",
   "execution_count": 37,
   "id": "507214f3",
   "metadata": {},
   "outputs": [
    {
     "name": "stdout",
     "output_type": "stream",
     "text": [
      "{'SuccessRate.individual_jobs':                                  job_id  success_rate  error_rate  fidelity  \\\n",
      "0  b7d1dc61-a65e-45d7-ba69-dfaf72ea415c           0.0         1.0  1.000000   \n",
      "1  9ec83931-faf9-4815-84ae-b09faa65c545           0.0         1.0  0.336914   \n",
      "2  58ed8a1b-ae39-4b08-b683-78437d8a520c           0.0         1.0  0.601562   \n",
      "\n",
      "   total_shots  successful_shots  \n",
      "0         1024                 0  \n",
      "1         1024                 0  \n",
      "2         1024                 0  , 'SuccessRate.aggregate':    mean_success_rate  std_success_rate  min_success_rate  max_success_rate  \\\n",
      "0                0.0               0.0               0.0               0.0   \n",
      "\n",
      "   total_trials  fidelity  error_rate  \n",
      "0          3072  0.646159         1.0  }\n",
      "\n"
     ]
    },
    {
     "data": {
      "application/vnd.plotly.v1+json": {
       "config": {
        "plotlyServerURL": "https://plot.ly"
       },
       "data": [
        {
         "domain": {
          "x": [
           0,
           1
          ],
          "y": [
           0,
           1
          ]
         },
         "hovertemplate": "State=%{label}<br>Percentage=%{value}<extra></extra>",
         "labels": [
          "Success",
          "Failure"
         ],
         "legendgroup": "",
         "name": "",
         "showlegend": true,
         "type": "pie",
         "values": {
          "bdata": "AAAAAACQdUAAAAAAADiFQA==",
          "dtype": "f8"
         }
        }
       ],
       "layout": {
        "legend": {
         "tracegroupgap": 0
        },
        "template": {
         "data": {
          "bar": [
           {
            "error_x": {
             "color": "#2a3f5f"
            },
            "error_y": {
             "color": "#2a3f5f"
            },
            "marker": {
             "line": {
              "color": "#E5ECF6",
              "width": 0.5
             },
             "pattern": {
              "fillmode": "overlay",
              "size": 10,
              "solidity": 0.2
             }
            },
            "type": "bar"
           }
          ],
          "barpolar": [
           {
            "marker": {
             "line": {
              "color": "#E5ECF6",
              "width": 0.5
             },
             "pattern": {
              "fillmode": "overlay",
              "size": 10,
              "solidity": 0.2
             }
            },
            "type": "barpolar"
           }
          ],
          "carpet": [
           {
            "aaxis": {
             "endlinecolor": "#2a3f5f",
             "gridcolor": "white",
             "linecolor": "white",
             "minorgridcolor": "white",
             "startlinecolor": "#2a3f5f"
            },
            "baxis": {
             "endlinecolor": "#2a3f5f",
             "gridcolor": "white",
             "linecolor": "white",
             "minorgridcolor": "white",
             "startlinecolor": "#2a3f5f"
            },
            "type": "carpet"
           }
          ],
          "choropleth": [
           {
            "colorbar": {
             "outlinewidth": 0,
             "ticks": ""
            },
            "type": "choropleth"
           }
          ],
          "contour": [
           {
            "colorbar": {
             "outlinewidth": 0,
             "ticks": ""
            },
            "colorscale": [
             [
              0,
              "#0d0887"
             ],
             [
              0.1111111111111111,
              "#46039f"
             ],
             [
              0.2222222222222222,
              "#7201a8"
             ],
             [
              0.3333333333333333,
              "#9c179e"
             ],
             [
              0.4444444444444444,
              "#bd3786"
             ],
             [
              0.5555555555555556,
              "#d8576b"
             ],
             [
              0.6666666666666666,
              "#ed7953"
             ],
             [
              0.7777777777777778,
              "#fb9f3a"
             ],
             [
              0.8888888888888888,
              "#fdca26"
             ],
             [
              1,
              "#f0f921"
             ]
            ],
            "type": "contour"
           }
          ],
          "contourcarpet": [
           {
            "colorbar": {
             "outlinewidth": 0,
             "ticks": ""
            },
            "type": "contourcarpet"
           }
          ],
          "heatmap": [
           {
            "colorbar": {
             "outlinewidth": 0,
             "ticks": ""
            },
            "colorscale": [
             [
              0,
              "#0d0887"
             ],
             [
              0.1111111111111111,
              "#46039f"
             ],
             [
              0.2222222222222222,
              "#7201a8"
             ],
             [
              0.3333333333333333,
              "#9c179e"
             ],
             [
              0.4444444444444444,
              "#bd3786"
             ],
             [
              0.5555555555555556,
              "#d8576b"
             ],
             [
              0.6666666666666666,
              "#ed7953"
             ],
             [
              0.7777777777777778,
              "#fb9f3a"
             ],
             [
              0.8888888888888888,
              "#fdca26"
             ],
             [
              1,
              "#f0f921"
             ]
            ],
            "type": "heatmap"
           }
          ],
          "histogram": [
           {
            "marker": {
             "pattern": {
              "fillmode": "overlay",
              "size": 10,
              "solidity": 0.2
             }
            },
            "type": "histogram"
           }
          ],
          "histogram2d": [
           {
            "colorbar": {
             "outlinewidth": 0,
             "ticks": ""
            },
            "colorscale": [
             [
              0,
              "#0d0887"
             ],
             [
              0.1111111111111111,
              "#46039f"
             ],
             [
              0.2222222222222222,
              "#7201a8"
             ],
             [
              0.3333333333333333,
              "#9c179e"
             ],
             [
              0.4444444444444444,
              "#bd3786"
             ],
             [
              0.5555555555555556,
              "#d8576b"
             ],
             [
              0.6666666666666666,
              "#ed7953"
             ],
             [
              0.7777777777777778,
              "#fb9f3a"
             ],
             [
              0.8888888888888888,
              "#fdca26"
             ],
             [
              1,
              "#f0f921"
             ]
            ],
            "type": "histogram2d"
           }
          ],
          "histogram2dcontour": [
           {
            "colorbar": {
             "outlinewidth": 0,
             "ticks": ""
            },
            "colorscale": [
             [
              0,
              "#0d0887"
             ],
             [
              0.1111111111111111,
              "#46039f"
             ],
             [
              0.2222222222222222,
              "#7201a8"
             ],
             [
              0.3333333333333333,
              "#9c179e"
             ],
             [
              0.4444444444444444,
              "#bd3786"
             ],
             [
              0.5555555555555556,
              "#d8576b"
             ],
             [
              0.6666666666666666,
              "#ed7953"
             ],
             [
              0.7777777777777778,
              "#fb9f3a"
             ],
             [
              0.8888888888888888,
              "#fdca26"
             ],
             [
              1,
              "#f0f921"
             ]
            ],
            "type": "histogram2dcontour"
           }
          ],
          "mesh3d": [
           {
            "colorbar": {
             "outlinewidth": 0,
             "ticks": ""
            },
            "type": "mesh3d"
           }
          ],
          "parcoords": [
           {
            "line": {
             "colorbar": {
              "outlinewidth": 0,
              "ticks": ""
             }
            },
            "type": "parcoords"
           }
          ],
          "pie": [
           {
            "automargin": true,
            "type": "pie"
           }
          ],
          "scatter": [
           {
            "fillpattern": {
             "fillmode": "overlay",
             "size": 10,
             "solidity": 0.2
            },
            "type": "scatter"
           }
          ],
          "scatter3d": [
           {
            "line": {
             "colorbar": {
              "outlinewidth": 0,
              "ticks": ""
             }
            },
            "marker": {
             "colorbar": {
              "outlinewidth": 0,
              "ticks": ""
             }
            },
            "type": "scatter3d"
           }
          ],
          "scattercarpet": [
           {
            "marker": {
             "colorbar": {
              "outlinewidth": 0,
              "ticks": ""
             }
            },
            "type": "scattercarpet"
           }
          ],
          "scattergeo": [
           {
            "marker": {
             "colorbar": {
              "outlinewidth": 0,
              "ticks": ""
             }
            },
            "type": "scattergeo"
           }
          ],
          "scattergl": [
           {
            "marker": {
             "colorbar": {
              "outlinewidth": 0,
              "ticks": ""
             }
            },
            "type": "scattergl"
           }
          ],
          "scattermap": [
           {
            "marker": {
             "colorbar": {
              "outlinewidth": 0,
              "ticks": ""
             }
            },
            "type": "scattermap"
           }
          ],
          "scattermapbox": [
           {
            "marker": {
             "colorbar": {
              "outlinewidth": 0,
              "ticks": ""
             }
            },
            "type": "scattermapbox"
           }
          ],
          "scatterpolar": [
           {
            "marker": {
             "colorbar": {
              "outlinewidth": 0,
              "ticks": ""
             }
            },
            "type": "scatterpolar"
           }
          ],
          "scatterpolargl": [
           {
            "marker": {
             "colorbar": {
              "outlinewidth": 0,
              "ticks": ""
             }
            },
            "type": "scatterpolargl"
           }
          ],
          "scatterternary": [
           {
            "marker": {
             "colorbar": {
              "outlinewidth": 0,
              "ticks": ""
             }
            },
            "type": "scatterternary"
           }
          ],
          "surface": [
           {
            "colorbar": {
             "outlinewidth": 0,
             "ticks": ""
            },
            "colorscale": [
             [
              0,
              "#0d0887"
             ],
             [
              0.1111111111111111,
              "#46039f"
             ],
             [
              0.2222222222222222,
              "#7201a8"
             ],
             [
              0.3333333333333333,
              "#9c179e"
             ],
             [
              0.4444444444444444,
              "#bd3786"
             ],
             [
              0.5555555555555556,
              "#d8576b"
             ],
             [
              0.6666666666666666,
              "#ed7953"
             ],
             [
              0.7777777777777778,
              "#fb9f3a"
             ],
             [
              0.8888888888888888,
              "#fdca26"
             ],
             [
              1,
              "#f0f921"
             ]
            ],
            "type": "surface"
           }
          ],
          "table": [
           {
            "cells": {
             "fill": {
              "color": "#EBF0F8"
             },
             "line": {
              "color": "white"
             }
            },
            "header": {
             "fill": {
              "color": "#C8D4E3"
             },
             "line": {
              "color": "white"
             }
            },
            "type": "table"
           }
          ]
         },
         "layout": {
          "annotationdefaults": {
           "arrowcolor": "#2a3f5f",
           "arrowhead": 0,
           "arrowwidth": 1
          },
          "autotypenumbers": "strict",
          "coloraxis": {
           "colorbar": {
            "outlinewidth": 0,
            "ticks": ""
           }
          },
          "colorscale": {
           "diverging": [
            [
             0,
             "#8e0152"
            ],
            [
             0.1,
             "#c51b7d"
            ],
            [
             0.2,
             "#de77ae"
            ],
            [
             0.3,
             "#f1b6da"
            ],
            [
             0.4,
             "#fde0ef"
            ],
            [
             0.5,
             "#f7f7f7"
            ],
            [
             0.6,
             "#e6f5d0"
            ],
            [
             0.7,
             "#b8e186"
            ],
            [
             0.8,
             "#7fbc41"
            ],
            [
             0.9,
             "#4d9221"
            ],
            [
             1,
             "#276419"
            ]
           ],
           "sequential": [
            [
             0,
             "#0d0887"
            ],
            [
             0.1111111111111111,
             "#46039f"
            ],
            [
             0.2222222222222222,
             "#7201a8"
            ],
            [
             0.3333333333333333,
             "#9c179e"
            ],
            [
             0.4444444444444444,
             "#bd3786"
            ],
            [
             0.5555555555555556,
             "#d8576b"
            ],
            [
             0.6666666666666666,
             "#ed7953"
            ],
            [
             0.7777777777777778,
             "#fb9f3a"
            ],
            [
             0.8888888888888888,
             "#fdca26"
            ],
            [
             1,
             "#f0f921"
            ]
           ],
           "sequentialminus": [
            [
             0,
             "#0d0887"
            ],
            [
             0.1111111111111111,
             "#46039f"
            ],
            [
             0.2222222222222222,
             "#7201a8"
            ],
            [
             0.3333333333333333,
             "#9c179e"
            ],
            [
             0.4444444444444444,
             "#bd3786"
            ],
            [
             0.5555555555555556,
             "#d8576b"
            ],
            [
             0.6666666666666666,
             "#ed7953"
            ],
            [
             0.7777777777777778,
             "#fb9f3a"
            ],
            [
             0.8888888888888888,
             "#fdca26"
            ],
            [
             1,
             "#f0f921"
            ]
           ]
          },
          "colorway": [
           "#636efa",
           "#EF553B",
           "#00cc96",
           "#ab63fa",
           "#FFA15A",
           "#19d3f3",
           "#FF6692",
           "#B6E880",
           "#FF97FF",
           "#FECB52"
          ],
          "font": {
           "color": "#2a3f5f"
          },
          "geo": {
           "bgcolor": "white",
           "lakecolor": "white",
           "landcolor": "#E5ECF6",
           "showlakes": true,
           "showland": true,
           "subunitcolor": "white"
          },
          "hoverlabel": {
           "align": "left"
          },
          "hovermode": "closest",
          "mapbox": {
           "style": "light"
          },
          "paper_bgcolor": "white",
          "plot_bgcolor": "#E5ECF6",
          "polar": {
           "angularaxis": {
            "gridcolor": "white",
            "linecolor": "white",
            "ticks": ""
           },
           "bgcolor": "#E5ECF6",
           "radialaxis": {
            "gridcolor": "white",
            "linecolor": "white",
            "ticks": ""
           }
          },
          "scene": {
           "xaxis": {
            "backgroundcolor": "#E5ECF6",
            "gridcolor": "white",
            "gridwidth": 2,
            "linecolor": "white",
            "showbackground": true,
            "ticks": "",
            "zerolinecolor": "white"
           },
           "yaxis": {
            "backgroundcolor": "#E5ECF6",
            "gridcolor": "white",
            "gridwidth": 2,
            "linecolor": "white",
            "showbackground": true,
            "ticks": "",
            "zerolinecolor": "white"
           },
           "zaxis": {
            "backgroundcolor": "#E5ECF6",
            "gridcolor": "white",
            "gridwidth": 2,
            "linecolor": "white",
            "showbackground": true,
            "ticks": "",
            "zerolinecolor": "white"
           }
          },
          "shapedefaults": {
           "line": {
            "color": "#2a3f5f"
           }
          },
          "ternary": {
           "aaxis": {
            "gridcolor": "white",
            "linecolor": "white",
            "ticks": ""
           },
           "baxis": {
            "gridcolor": "white",
            "linecolor": "white",
            "ticks": ""
           },
           "bgcolor": "#E5ECF6",
           "caxis": {
            "gridcolor": "white",
            "linecolor": "white",
            "ticks": ""
           }
          },
          "title": {
           "x": 0.05
          },
          "xaxis": {
           "automargin": true,
           "gridcolor": "white",
           "linecolor": "white",
           "ticks": "",
           "title": {
            "standoff": 15
           },
           "zerolinecolor": "white",
           "zerolinewidth": 2
          },
          "yaxis": {
           "automargin": true,
           "gridcolor": "white",
           "linecolor": "white",
           "ticks": "",
           "title": {
            "standoff": 15
           },
           "zerolinecolor": "white",
           "zerolinewidth": 2
          }
         }
        },
        "title": {
         "text": "Success rate of batch #1"
        }
       }
      }
     },
     "metadata": {},
     "output_type": "display_data"
    }
   ],
   "source": [
    "import plotly.graph_objs as go\n",
    "\n",
    "def success_pie_graph(scanner, jobs, index, n):\n",
    "    df = pd.DataFrame({\"State\":[],\n",
    "                       \"Percentage\":[]})\n",
    "    for i, job in enumerate(jobs):\n",
    "        if i == index:\n",
    "            result = job.result()\n",
    "            counts = result.get_counts()\n",
    "            total_shots = sum(counts.values())\n",
    "            successful_shots = counts.get('0'*n, 0)\n",
    "            success_rate = successful_shots / total_shots if total_shots > 0 else 0.0\n",
    "\n",
    "            batch = pd.DataFrame(\n",
    "                {\n",
    "                    \"State\":[\"Success\", \"Failure\"],\n",
    "                    \"Percentage\":[successful_shots, total_shots - successful_shots]\n",
    "                })\n",
    "            df = pd.concat([df, batch])\n",
    "            metrics_dict = scanner.calculate_metrics()\n",
    "            print(f\"{metrics_dict}\")\n",
    "            print(f\"\")\n",
    "                    \n",
    "            break    \n",
    "    fig = px.pie(df, names=\"State\", values=\"Percentage\", title=f'Success rate of batch #{index}')\n",
    "    fig.show()\n",
    "    \n",
    "\n",
    "success_pie_graph(scanner= scanner, jobs=jobs, index=1, n = 10)"
   ]
  },
  {
   "cell_type": "code",
   "execution_count": null,
   "id": "975eea58",
   "metadata": {},
   "outputs": [
    {
     "ename": "SyntaxError",
     "evalue": "expected argument value expression (3866329655.py, line 27)",
     "output_type": "error",
     "traceback": [
      "  \u001b[36mCell\u001b[39m\u001b[36m \u001b[39m\u001b[32mIn[56]\u001b[39m\u001b[32m, line 27\u001b[39m\n\u001b[31m    \u001b[39m\u001b[31mpx.histogram(data_frame=df, x=, y )\u001b[39m\n                                ^\n\u001b[31mSyntaxError\u001b[39m\u001b[31m:\u001b[39m expected argument value expression\n"
     ]
    }
   ],
   "source": [
    "import plotly.express as px\n",
    "import pandas as pd\n",
    "\n",
    "def execution_result_histogram(jobs):\n",
    "    df = pd.DataFrame({\"Job Batch\":[],\n",
    "                       \"Result\":[],\n",
    "                       \"Count\":[]})\n",
    "\n",
    "    for i, job in enumerate(jobs):\n",
    "        result = job.result()\n",
    "        counts = result.get_counts()\n",
    "\n",
    "        results = {}\n",
    "        print(counts)\n",
    "        for j in counts:\n",
    "            if j not in results.keys():\n",
    "                results[j] = 1\n",
    "            else:\n",
    "                results[j] += 1\n",
    "        for j in results.keys():\n",
    "\n",
    "            batch = pd.DataFrame({\"Job Batch\":[f\"Job Batch {i}\"],\n",
    "                       \"Result\":[j],\n",
    "                       \"Count\":[results[j]]})\n",
    "            df = pd.concat([df, batch])\n",
    "\n",
    "    fig = px.histogram(data_frame=df, x=\"Result\", y=\"Count\")\n",
    "    fig.show()\n",
    "\n",
    "execution_result_histogram(jobs)"
   ]
  },
  {
   "cell_type": "code",
   "execution_count": null,
   "id": "cce59841",
   "metadata": {},
   "outputs": [
    {
     "data": {
      "text/plain": [
       "'\\nimport plotly.graph_objects as go\\nimport plotly.tools as tls\\nimport ipywidgets as ipw\\nfrom plotly.subplots import make_subplots\\nfrom qiskit import QuantumCircuit\\nfrom qward import Scanner\\nfrom qward.metrics import QiskitMetrics, ComplexityMetrics, SuccessRate\\n\\nfrom example_deutsch_jozsa_constructor import create_example_dj\\n\\nimport pandas as pd\\n\\ndef static_circuit_data_visualization(circuit: QuantumCircuit, scanner):\\n    fig = make_subplots(\\n    rows=2, cols=1,\\n    column_widths=[0.6],\\n    row_heights=[0.4, 0.6],\\n    specs=[[{\"type\": \"surface\"}],\\n           [{\"type\": \"surface\"}]])\\n\\n    fig.add_trace(\\n        tls.mpl_to_plotly(circuit.draw(output=\"mpl\"))\\n    )\\n\\n    fig.show()\\n    pass\\n\\nstatic_circuit_data_visualization(create_example_dj(10), Scanner(circuit=create_example_dj(10), metrics=[QiskitMetrics, ComplexityMetrics]))\\n'"
      ]
     },
     "execution_count": 28,
     "metadata": {},
     "output_type": "execute_result"
    }
   ],
   "source": [
    "\"\"\"\n",
    "import plotly.graph_objects as go\n",
    "import plotly.tools as tls\n",
    "import ipywidgets as ipw\n",
    "from plotly.subplots import make_subplots\n",
    "from qiskit import QuantumCircuit\n",
    "from qward import Scanner\n",
    "from qward.metrics import QiskitMetrics, ComplexityMetrics, SuccessRate\n",
    "\n",
    "from example_deutsch_jozsa_constructor import create_example_dj\n",
    "\n",
    "import pandas as pd\n",
    "\n",
    "def static_circuit_data_visualization(circuit: QuantumCircuit, scanner):\n",
    "    fig = make_subplots(\n",
    "    rows=2, cols=1,\n",
    "    column_widths=[0.6],\n",
    "    row_heights=[0.4, 0.6],\n",
    "    specs=[[{\"type\": \"surface\"}],\n",
    "           [{\"type\": \"surface\"}]])\n",
    "\n",
    "    fig.add_trace(\n",
    "        tls.mpl_to_plotly(circuit.draw(output=\"mpl\"))\n",
    "    )\n",
    "\n",
    "    fig.show()\n",
    "    pass\n",
    "\n",
    "static_circuit_data_visualization(create_example_dj(10), Scanner(circuit=create_example_dj(10), metrics=[QiskitMetrics, ComplexityMetrics]))\n",
    "\"\"\""
   ]
  }
 ],
 "metadata": {
  "kernelspec": {
   "display_name": "Python 3",
   "language": "python",
   "name": "python3"
  },
  "language_info": {
   "codemirror_mode": {
    "name": "ipython",
    "version": 3
   },
   "file_extension": ".py",
   "mimetype": "text/x-python",
   "name": "python",
   "nbconvert_exporter": "python",
   "pygments_lexer": "ipython3",
   "version": "3.12.9"
  }
 },
 "nbformat": 4,
 "nbformat_minor": 5
}
